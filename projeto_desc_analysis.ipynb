{
  "nbformat": 4,
  "nbformat_minor": 0,
  "metadata": {
    "colab": {
      "name": "projeto-introd-cd.ipynb",
      "provenance": [],
      "collapsed_sections": [],
      "include_colab_link": true
    },
    "kernelspec": {
      "name": "python3",
      "display_name": "Python 3"
    }
  },
  "cells": [
    {
      "cell_type": "markdown",
      "metadata": {
        "colab_type": "text",
        "id": "view-in-github"
      },
      "source": [
        "<a href=\"https://colab.research.google.com/github/cafmf/introd-cd/blob/master/projeto_introd_cd.ipynb\" target=\"_parent\"><img src=\"https://colab.research.google.com/assets/colab-badge.svg\" alt=\"Open In Colab\"/></a>"
      ]
    },
    {
      "cell_type": "markdown",
      "metadata": {
        "colab_type": "text",
        "id": "VgDHr1w5ItKB"
      },
      "source": [
        "1 - Leitura dos dados sobre as avalição feitas ao serviço do airbnb na cidade de Nova York"
      ]
    },
    {
      "cell_type": "code",
      "execution_count": null,
      "metadata": {},
      "outputs": [
        {
          "evalue": "Error: Jupyter cannot be started. Error attempting to locate jupyter: Error: Module 'notebook' not installed.",
          "output_type": "error"
        }
      ],
      "source": [
        "import pandas as pd\n",
        "import numpy as np\n",
        "url = 'https://raw.githubusercontent.com/cafmf/analise-descritiva/master/adult.csv'\n",
        "airbnb_df = pd.read_csv(url)"
      ]
    },
    {
      "cell_type": "markdown",
      "metadata": {
        "colab_type": "text",
        "id": "q7oJ_BPWKSGy"
      },
      "source": [
        "2 - Visualizando tamanho do frame\n"
      ]
    },
    {
      "cell_type": "code",
      "execution_count": null,
      "metadata": {},
      "outputs": [
        {
          "evalue": "Error: Jupyter cannot be started. Error attempting to locate jupyter: Error: Module 'notebook' not installed.",
          "output_type": "error"
        }
      ],
      "source": [
        "airbnb_df.shape"
      ]
    },
    {
      "cell_type": "markdown",
      "metadata": {
        "colab_type": "text",
        "id": "VCqprg8zkD5c"
      },
      "source": [
        "3 - Descrevendo os dados para análise de possiveis valores com muita discrepância. Baseado na descrição dos dados, os campos de price e minimum_nights são passíveis de possuir outliers"
      ]
    },
    {
      "cell_type": "code",
      "execution_count": null,
      "metadata": {},
      "outputs": [
        {
          "evalue": "Error: Jupyter cannot be started. Error attempting to locate jupyter: Error: Module 'notebook' not installed.",
          "output_type": "error"
        }
      ],
      "source": [
        "airbnb_df.describe()"
      ]
    },
    {
      "cell_type": "markdown",
      "metadata": {
        "colab_type": "text",
        "id": "Z7_AQnUwfuiG"
      },
      "source": [
        "4 - Visualização para análise de outliers para o campo price utilizando log na base 10 para otimizar visualição"
      ]
    },
    {
      "cell_type": "code",
      "execution_count": null,
      "metadata": {},
      "outputs": [
        {
          "evalue": "Error: Jupyter cannot be started. Error attempting to locate jupyter: Error: Module 'notebook' not installed.",
          "output_type": "error"
        }
      ],
      "source": [
        "\n",
        "airbnb_df['price_log'] = np.log10(airbnb_df[airbnb_df['price'] > 0]['price'])\n",
        "airbnb_df['price_log'].plot.box()"
      ]
    },
    {
      "cell_type": "markdown",
      "metadata": {
        "colab_type": "text",
        "id": "L_aikTs7-p9h"
      },
      "source": [
        "5 - Removendo outliers para o campo \"Price\" utilizando método de tukey"
      ]
    },
    {
      "cell_type": "code",
      "execution_count": null,
      "metadata": {},
      "outputs": [
        {
          "evalue": "Error: Jupyter cannot be started. Error attempting to locate jupyter: Error: Module 'notebook' not installed.",
          "output_type": "error"
        }
      ],
      "source": [
        "q1 = airbnb_df['price'].quantile(q=0.25)\n",
        "q3 = airbnb_df['price'].quantile(q=0.75)\n",
        "iqr = q3 - q1\n",
        "airbnb_df = airbnb_df[(airbnb_df['price'] > (q1-1.5*iqr)) & (airbnb_df['price'] < (q3+1.5*iqr))]\n",
        "airbnb_df.shape"
      ]
    },
    {
      "cell_type": "markdown",
      "metadata": {
        "colab_type": "text",
        "id": "_8C6q2p-jpnM"
      },
      "source": [
        "6 - Visualização para análise de outliers para o campo minimum_nights utilizando log na base 10 para otimizar visualição"
      ]
    },
    {
      "cell_type": "code",
      "execution_count": null,
      "metadata": {},
      "outputs": [
        {
          "evalue": "Error: Jupyter cannot be started. Error attempting to locate jupyter: Error: Module 'notebook' not installed.",
          "output_type": "error"
        }
      ],
      "source": [
        "airbnb_df['minimum_nights_log'] = np.log10(airbnb_df[airbnb_df['minimum_nights'] > 0]['minimum_nights'])\n",
        "airbnb_df['minimum_nights_log'].plot.box()"
      ]
    },
    {
      "cell_type": "markdown",
      "metadata": {
        "colab_type": "text",
        "id": "DzY74GFtwJLs"
      },
      "source": [
        "7 - Removendo outliers para o campo minimum_nights utilizando método de tukey"
      ]
    },
    {
      "cell_type": "code",
      "execution_count": null,
      "metadata": {},
      "outputs": [
        {
          "evalue": "Error: Jupyter cannot be started. Error attempting to locate jupyter: Error: Module 'notebook' not installed.",
          "output_type": "error"
        }
      ],
      "source": [
        "q1 = airbnb_df['minimum_nights'].quantile(q=0.25)\n",
        "q3 = airbnb_df['minimum_nights'].quantile(q=0.75)\n",
        "iqr = q3 - q1\n",
        "airbnb_df = airbnb_df[(airbnb_df['minimum_nights'] > (q1-1.5*iqr)) & (airbnb_df['minimum_nights'] < (q3+1.5*iqr))]\n",
        "airbnb_df.shape"
      ]
    },
    {
      "cell_type": "markdown",
      "metadata": {
        "colab_type": "text",
        "id": "iqurv4OAz6i7"
      },
      "source": [
        "8 - Fazendo análise de campos nulos"
      ]
    },
    {
      "cell_type": "code",
      "execution_count": null,
      "metadata": {},
      "outputs": [
        {
          "evalue": "Error: Jupyter cannot be started. Error attempting to locate jupyter: Error: Module 'notebook' not installed.",
          "output_type": "error"
        }
      ],
      "source": [
        "airbnb_df.isnull().sum()"
      ]
    },
    {
      "cell_type": "markdown",
      "metadata": {
        "colab_type": "text",
        "id": "40HY2Ln835wk"
      },
      "source": [
        "9 - Verificando dados duplicados"
      ]
    },
    {
      "cell_type": "code",
      "execution_count": null,
      "metadata": {},
      "outputs": [
        {
          "evalue": "Error: Jupyter cannot be started. Error attempting to locate jupyter: Error: Module 'notebook' not installed.",
          "output_type": "error"
        }
      ],
      "source": [
        "duplicated = airbnb_df[airbnb_df.duplicated()]\n",
        "len(duplicated)"
      ]
    },
    {
      "cell_type": "markdown",
      "metadata": {
        "colab_type": "text",
        "id": "ZirCGjtX8V6o"
      },
      "source": [
        "10 - Identificando hospedagens cujo número de avaliações se aproximam da média sem considerar nulos para a posição de number_of_reviews"
      ]
    },
    {
      "cell_type": "code",
      "execution_count": null,
      "metadata": {},
      "outputs": [
        {
          "evalue": "Error: Jupyter cannot be started. Error attempting to locate jupyter: Error: Module 'notebook' not installed.",
          "output_type": "error"
        }
      ],
      "source": [
        "# uma vez removido os outliers, será considerado a média como medida de tendência central. Devido ao resultado só considera dados sobre avalição,\n",
        "# os campos nulos serão desconsiderados\n",
        "airbnb_without_null_reviews = airbnb_df.dropna(axis=0)\n",
        "std = airbnb_without_null_reviews['number_of_reviews'].std()\n",
        "mean = airbnb_without_null_reviews['number_of_reviews'].mean()\n",
        "minor_threshold = std - mean\n",
        "major_threshold = std + mean\n",
        "most_rated_per_neigborhood = airbnb_without_null_reviews[(airbnb_without_null_reviews['number_of_reviews'] >= minor_threshold) & (airbnb_without_null_reviews['number_of_reviews'] <= major_threshold)]\n",
        "most_rated_per_neigborhood.head()"
      ]
    },
    {
      "cell_type": "markdown",
      "metadata": {
        "colab_type": "text",
        "id": "yK-3IHcEKhxB"
      },
      "source": [
        "11 - Identificando as acomodações mais bem avaliadas que permitem serem reservadas por uma noite no bairro de Midtown"
      ]
    },
    {
      "cell_type": "code",
      "execution_count": null,
      "metadata": {},
      "outputs": [
        {
          "evalue": "Error: Jupyter cannot be started. Error attempting to locate jupyter: Error: Module 'notebook' not installed.",
          "output_type": "error"
        }
      ],
      "source": [
        "one_night_most_rated = most_rated_per_neigborhood[(most_rated_per_neigborhood['neighbourhood'] == 'Midtown') & (most_rated_per_neigborhood['minimum_nights'] == 1)]\n",
        "one_night_most_rated = one_night_most_rated.sort_values(by=['price'])"
      ]
    }
  ]
}